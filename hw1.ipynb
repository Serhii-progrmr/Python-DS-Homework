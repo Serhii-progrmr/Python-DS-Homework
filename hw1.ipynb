{
 "cells": [
  {
   "cell_type": "code",
   "execution_count": 2,
   "id": "3f14bf85-1f0c-4735-90df-3234ebaf09c6",
   "metadata": {},
   "outputs": [
    {
     "name": "stdout",
     "output_type": "stream",
     "text": [
      "[3. 4. 5. 6. 7.]\n",
      "[0. 1. 2. 3. 4.]\n"
     ]
    }
   ],
   "source": [
    "import numpy as np\n",
    "a = np.array([1, 2, 3, 4, 5], dtype=float)\n",
    "print(a + 2)  # [3. 4. 5. 6. 7.]\n",
    "print(a - 1)  # [0. 1. 2. 3. 4.]"
   ]
  },
  {
   "cell_type": "code",
   "execution_count": 4,
   "id": "f39cb4f0-9a2f-4810-8e05-f40607772807",
   "metadata": {},
   "outputs": [
    {
     "name": "stdout",
     "output_type": "stream",
     "text": [
      "[ 1  2  3  4  5  6  7  8  9 10]\n"
     ]
    }
   ],
   "source": [
    "nnvect= np.array([1, 2, 3, 4, 5, 6, 7, 8, 9, 10])\n",
    "print(nnvect)                "
   ]
  },
  {
   "cell_type": "code",
   "execution_count": 5,
   "id": "b487c95a-45d9-4b36-bf9b-3bb607cbae3f",
   "metadata": {},
   "outputs": [
    {
     "name": "stdout",
     "output_type": "stream",
     "text": [
      "[[0 0 0]\n",
      " [0 0 0]]\n"
     ]
    }
   ],
   "source": [
    "m = np.array([[0, 0, 0], [0, 0, 0]], dtype=int)\n",
    "\n",
    "print(m)"
   ]
  },
  {
   "cell_type": "code",
   "execution_count": 6,
   "id": "ad408a69-b237-4ff7-aa47-83981b615e76",
   "metadata": {},
   "outputs": [
    {
     "name": "stdout",
     "output_type": "stream",
     "text": [
      "[[ 2  9  2  1 10]\n",
      " [ 9  4 10  8  4]\n",
      " [ 3  2  3  6  9]\n",
      " [ 2  7  1  2 10]\n",
      " [ 1  7  3  3  9]]\n"
     ]
    }
   ],
   "source": [
    "random_array = np.random.randint(1, 11, size=(5, 5))\n",
    "print(random_array)"
   ]
  },
  {
   "cell_type": "code",
   "execution_count": 8,
   "id": "35c50a21-b91b-4b98-abce-5d014a9a51cc",
   "metadata": {},
   "outputs": [
    {
     "name": "stdout",
     "output_type": "stream",
     "text": [
      "[[0.91307199 0.32982247 0.48558636 0.44500471]\n",
      " [0.12682399 0.48464156 0.17475126 0.81486698]\n",
      " [0.53428994 0.11336481 0.02204822 0.40206168]\n",
      " [0.89938025 0.51630273 0.4462885  0.42764792]]\n",
      "[[0.913 0.33  0.486 0.445]\n",
      " [0.127 0.485 0.175 0.815]\n",
      " [0.534 0.113 0.022 0.402]\n",
      " [0.899 0.516 0.446 0.428]]\n"
     ]
    }
   ],
   "source": [
    "random_array = np.random.rand(4, 4)\n",
    "print(random_array)\n",
    "rounded_array = np.round(random_array, 3)\n",
    "print(rounded_array)"
   ]
  },
  {
   "cell_type": "code",
   "execution_count": 2,
   "id": "0c384a42-5000-4dd4-a6e8-7deea7092df4",
   "metadata": {},
   "outputs": [
    {
     "ename": "ModuleNotFoundError",
     "evalue": "No module named 'numpy'",
     "output_type": "error",
     "traceback": [
      "\u001b[1;31m---------------------------------------------------------------------------\u001b[0m",
      "\u001b[1;31mModuleNotFoundError\u001b[0m                       Traceback (most recent call last)",
      "Cell \u001b[1;32mIn[2], line 1\u001b[0m\n\u001b[1;32m----> 1\u001b[0m \u001b[38;5;28;01mimport\u001b[39;00m \u001b[38;5;21;01mnumpy\u001b[39;00m \u001b[38;5;28;01mas\u001b[39;00m \u001b[38;5;21;01mnp\u001b[39;00m\n\u001b[0;32m      2\u001b[0m np\u001b[38;5;241m.\u001b[39mrandom\u001b[38;5;241m.\u001b[39mseed(\u001b[38;5;241m42\u001b[39m)\n\u001b[0;32m      3\u001b[0m a \u001b[38;5;241m=\u001b[39m np\u001b[38;5;241m.\u001b[39mrandom\u001b[38;5;241m.\u001b[39mrandint(\u001b[38;5;241m1\u001b[39m, \u001b[38;5;241m11\u001b[39m, size\u001b[38;5;241m=\u001b[39m\u001b[38;5;241m5\u001b[39m)\n",
      "\u001b[1;31mModuleNotFoundError\u001b[0m: No module named 'numpy'"
     ]
    }
   ],
   "source": [
    "import numpy as np\n",
    "np.random.seed(42)\n",
    "a = np.random.randint(1, 11, size=5)\n",
    "b = np.random.randint(1, 11, size=5)\n",
    "add_res = a + b\n",
    "sub_res = a - b\n",
    "mul_res = a*b\n",
    "print ('a:', a)\n",
    "print ('b:', b)\n",
    "print ('add:', add_res)\n",
    "print ('sub:', sub_res)\n",
    "print ('mul:', mul_res)"
   ]
  },
  {
   "cell_type": "code",
   "execution_count": null,
   "id": "4a1b1835-dd06-4a1c-a768-86e5a38dadab",
   "metadata": {},
   "outputs": [],
   "source": []
  }
 ],
 "metadata": {
  "kernelspec": {
   "display_name": "Python 3 (ipykernel)",
   "language": "python",
   "name": "python3"
  },
  "language_info": {
   "codemirror_mode": {
    "name": "ipython",
    "version": 3
   },
   "file_extension": ".py",
   "mimetype": "text/x-python",
   "name": "python",
   "nbconvert_exporter": "python",
   "pygments_lexer": "ipython3",
   "version": "3.11.7"
  }
 },
 "nbformat": 4,
 "nbformat_minor": 5
}
