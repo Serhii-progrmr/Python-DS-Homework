{
  "cells": [
    {
      "cell_type": "markdown",
      "metadata": {
        "id": "view-in-github",
        "colab_type": "text"
      },
      "source": [
        "<a href=\"https://colab.research.google.com/github/Serhii-progrmr/Python-DS-Homework/blob/main/hw1.ipynb\" target=\"_parent\"><img src=\"https://colab.research.google.com/assets/colab-badge.svg\" alt=\"Open In Colab\"/></a>"
      ]
    },
    {
      "cell_type": "code",
      "execution_count": null,
      "id": "3f14bf85-1f0c-4735-90df-3234ebaf09c6",
      "metadata": {
        "id": "3f14bf85-1f0c-4735-90df-3234ebaf09c6"
      },
      "outputs": [],
      "source": [
        "import numpy as np"
      ]
    },
    {
      "cell_type": "markdown",
      "source": [
        "1. Одновимірний масив (вектор) з першими 10-ма натуральними числами"
      ],
      "metadata": {
        "id": "jZHDD366mU84"
      },
      "id": "jZHDD366mU84"
    },
    {
      "cell_type": "code",
      "execution_count": null,
      "id": "f39cb4f0-9a2f-4810-8e05-f40607772807",
      "metadata": {
        "id": "f39cb4f0-9a2f-4810-8e05-f40607772807",
        "outputId": "3803a7f9-ab10-4dc7-eb5d-0f1f50e714fb",
        "colab": {
          "base_uri": "https://localhost:8080/"
        }
      },
      "outputs": [
        {
          "output_type": "execute_result",
          "data": {
            "text/plain": [
              "array([ 1,  2,  3,  4,  5,  6,  7,  8,  9, 10])"
            ]
          },
          "metadata": {},
          "execution_count": 7
        }
      ],
      "source": [
        "#1 Одновимірний масив (вектор) з першими 10-ма натуральними числами\n",
        "nnvect= np.array([1, 2, 3, 4, 5, 6, 7, 8, 9, 10])\n",
        "# print(nnvect)\n",
        "nnvect"
      ]
    },
    {
      "cell_type": "markdown",
      "source": [
        "2. Двовимірний масив (матрицю) розміром 3x3, заповніть його нулями"
      ],
      "metadata": {
        "id": "HWhdPvPUnYnB"
      },
      "id": "HWhdPvPUnYnB"
    },
    {
      "cell_type": "code",
      "execution_count": null,
      "id": "b487c95a-45d9-4b36-bf9b-3bb607cbae3f",
      "metadata": {
        "id": "b487c95a-45d9-4b36-bf9b-3bb607cbae3f",
        "outputId": "29f75975-6de5-4fc4-b69e-1bb162d67657",
        "colab": {
          "base_uri": "https://localhost:8080/"
        }
      },
      "outputs": [
        {
          "output_type": "stream",
          "name": "stdout",
          "text": [
            "[[0 0 0]\n",
            " [0 0 0]]\n"
          ]
        }
      ],
      "source": [
        "#2 Двовимірний масив (матрицю) розміром 3x3, заповніть його нулями\n",
        "m = np.array([[0, 0, 0], [0, 0, 0]], dtype=int)\n",
        "\n",
        "print(m)"
      ]
    },
    {
      "cell_type": "markdown",
      "source": [
        "3. масив розміром 5x5, заповніть його випадковими цілими числами в діапазоні від 1 до 10 та виведіть його значення."
      ],
      "metadata": {
        "id": "b4mau3n_ne95"
      },
      "id": "b4mau3n_ne95"
    },
    {
      "cell_type": "code",
      "execution_count": null,
      "id": "ad408a69-b237-4ff7-aa47-83981b615e76",
      "metadata": {
        "id": "ad408a69-b237-4ff7-aa47-83981b615e76",
        "outputId": "211897bc-745d-4db0-b356-88e5671a45e8"
      },
      "outputs": [
        {
          "name": "stdout",
          "output_type": "stream",
          "text": [
            "[[ 2  9  2  1 10]\n",
            " [ 9  4 10  8  4]\n",
            " [ 3  2  3  6  9]\n",
            " [ 2  7  1  2 10]\n",
            " [ 1  7  3  3  9]]\n"
          ]
        }
      ],
      "source": [
        "#3 масив розміром 5x5, заповніть його випадковими цілими числами в діапазоні від 1 до 10 та виведіть його значення.\n",
        "random_array = np.random.randint(1, 11, size=(5, 5))\n",
        "print(random_array)"
      ]
    },
    {
      "cell_type": "markdown",
      "source": [
        "4. Масив розміром 4x4, заповніть його випадковими дійсними числами в діапазоні від 0 до 1 та виведіть його значення"
      ],
      "metadata": {
        "id": "jc-x_Wc0obmd"
      },
      "id": "jc-x_Wc0obmd"
    },
    {
      "cell_type": "code",
      "execution_count": null,
      "id": "35c50a21-b91b-4b98-abce-5d014a9a51cc",
      "metadata": {
        "id": "35c50a21-b91b-4b98-abce-5d014a9a51cc",
        "outputId": "d12bee24-fdec-41db-acfe-014dccf96ad6"
      },
      "outputs": [
        {
          "name": "stdout",
          "output_type": "stream",
          "text": [
            "[[0.91307199 0.32982247 0.48558636 0.44500471]\n",
            " [0.12682399 0.48464156 0.17475126 0.81486698]\n",
            " [0.53428994 0.11336481 0.02204822 0.40206168]\n",
            " [0.89938025 0.51630273 0.4462885  0.42764792]]\n",
            "[[0.913 0.33  0.486 0.445]\n",
            " [0.127 0.485 0.175 0.815]\n",
            " [0.534 0.113 0.022 0.402]\n",
            " [0.899 0.516 0.446 0.428]]\n"
          ]
        }
      ],
      "source": [
        "#4 масив розміром 4x4, заповніть його випадковими дійсними числами в діапазоні від 0 до 1 та виведіть його значення\n",
        "random_array = np.random.rand(4, 4)\n",
        "print(random_array)\n",
        "rounded_array = np.round(random_array, 3)\n",
        "print(rounded_array)"
      ]
    },
    {
      "cell_type": "markdown",
      "source": [
        "5. два одновимірних масиви розміром 5, заповніть їх випадковими цілими числами в діапазоні від 1 до 10 та виконайте на них поелементні операції додавання, віднімання та множення."
      ],
      "metadata": {
        "id": "J6QYTAqmolI8"
      },
      "id": "J6QYTAqmolI8"
    },
    {
      "cell_type": "code",
      "execution_count": null,
      "id": "0c384a42-5000-4dd4-a6e8-7deea7092df4",
      "metadata": {
        "colab": {
          "base_uri": "https://localhost:8080/"
        },
        "id": "0c384a42-5000-4dd4-a6e8-7deea7092df4",
        "outputId": "8cc7b525-bdb7-472b-cd1b-2ad9131e989a"
      },
      "outputs": [
        {
          "output_type": "stream",
          "name": "stdout",
          "text": [
            "a: [7 4 8 5 7]\n",
            "b: [10  3  7  8  5]\n",
            "add: [17  7 15 13 12]\n",
            "sub: [-3  1  1 -3  2]\n",
            "mul: [70 12 56 40 35]\n"
          ]
        }
      ],
      "source": [
        "#5 два одновимірних масиви розміром 5, заповніть їх випадковими цілими числами в діапазоні від 1 до 10 та виконайте\n",
        "#  на них поелементні операції додавання, віднімання та множення.\n",
        "import numpy as np\n",
        "np.random.seed(42)\n",
        "a = np.random.randint(1, 11, size=5)\n",
        "b = np.random.randint(1, 11, size=5)\n",
        "add_res = a + b\n",
        "sub_res = a - b\n",
        "mul_res = a*b\n",
        "print ('a:', a)\n",
        "print ('b:', b)\n",
        "print ('add:', add_res)\n",
        "print ('sub:', sub_res)\n",
        "print ('mul:', mul_res)"
      ]
    },
    {
      "cell_type": "markdown",
      "source": [
        "6. два вектори розміром 7, заповніть довільними числами та знайдіть та знайдіть їх скалярний добуток"
      ],
      "metadata": {
        "id": "JpK8mQgUo0U5"
      },
      "id": "JpK8mQgUo0U5"
    },
    {
      "cell_type": "code",
      "execution_count": null,
      "id": "4a1b1835-dd06-4a1c-a768-86e5a38dadab",
      "metadata": {
        "colab": {
          "base_uri": "https://localhost:8080/"
        },
        "id": "4a1b1835-dd06-4a1c-a768-86e5a38dadab",
        "outputId": "775f469e-51cb-4274-ada3-125864d79f4b"
      },
      "outputs": [
        {
          "output_type": "stream",
          "name": "stdout",
          "text": [
            "[ 7  4  8  5  7 10  3] [7 8 5 4 8 8 3]\n",
            "286\n"
          ]
        }
      ],
      "source": [
        "#6 два вектори розміром 7, заповніть довільними числами та знайдіть скалярний добуток векторів\n",
        "np.random.seed(42)\n",
        "v1 = np.random.randint(1, 11, size=7)\n",
        "v2 = np.random.randint(1, 11, size=7)\n",
        "print(v1, v2)\n",
        "print(np.dot(v1, v2))"
      ]
    },
    {
      "cell_type": "markdown",
      "source": [
        "7. дві матриці розміром 2x2 та 2x3, заповнити їх випадковими цілими числами в діапазоні від 1 до 10 та перемножити їх між собою."
      ],
      "metadata": {
        "id": "fYGi_Q-2pBoi"
      },
      "id": "fYGi_Q-2pBoi"
    },
    {
      "cell_type": "code",
      "source": [
        "#7 дві матриці розміром 2x2 та 2x3, заповнити їх випадковими цілими числами в діапазоні від 1 до 10 та перемножити їх між собою.\n",
        "np.random.seed(42)\n",
        "m1 = np.random.randint(1, 10, size=(2, 2))\n",
        "m2 = np.random.randint(1, 10, size=(2, 3))\n",
        "print(m1)\n",
        "print(m2)\n",
        "print(m1*m1)\n"
      ],
      "metadata": {
        "colab": {
          "base_uri": "https://localhost:8080/"
        },
        "id": "z9O8G1neXc05",
        "outputId": "1ecacf07-9f46-483c-a8a9-898f8b28ef67"
      },
      "id": "z9O8G1neXc05",
      "execution_count": null,
      "outputs": [
        {
          "output_type": "stream",
          "name": "stdout",
          "text": [
            "[[7 4]\n",
            " [8 5]]\n",
            "[[7 3 7]\n",
            " [8 5 4]]\n",
            "[[49 16]\n",
            " [64 25]]\n",
            "[[81 41 65]\n",
            " [96 49 76]]\n"
          ]
        }
      ]
    },
    {
      "cell_type": "markdown",
      "source": [
        "8. матриця розміром 3x3, заповніть її випадковими цілими числами в діапазоні від 1 до 10 та знайдіть її обернену матрицю."
      ],
      "metadata": {
        "id": "tGdPBZSlpTul"
      },
      "id": "tGdPBZSlpTul"
    },
    {
      "cell_type": "code",
      "source": [
        "#8 матрицю розміром 3x3, заповніть її випадковими цілими числами в діапазоні від 1 до 10 та знайдіть її обернену матрицю.\n",
        "np.random.seed(42)\n",
        "a = np.random.randint(1, 10, size=(3, 3))\n",
        "a_inv = np.linalg.inv(a)\n",
        "print('a:',a)\n",
        "print('a_inv:',a_inv)"
      ],
      "metadata": {
        "colab": {
          "base_uri": "https://localhost:8080/"
        },
        "id": "MWauYbLIaQxc",
        "outputId": "88aa1407-0f0f-421d-9523-5efbf14aebf0"
      },
      "id": "MWauYbLIaQxc",
      "execution_count": null,
      "outputs": [
        {
          "output_type": "stream",
          "name": "stdout",
          "text": [
            "a: [[7 4 8]\n",
            " [5 7 3]\n",
            " [7 8 5]]\n",
            "a_inv: [[-1.         -4.          4.        ]\n",
            " [ 0.36363636  1.90909091 -1.72727273]\n",
            " [ 0.81818182  2.54545455 -2.63636364]]\n"
          ]
        }
      ]
    },
    {
      "cell_type": "markdown",
      "source": [
        "9. матриця розміром 4x4, заповнити її випадковими дійсними числами в діапазоні від 0 до 1 та транспонувати."
      ],
      "metadata": {
        "id": "vljRjvWapei0"
      },
      "id": "vljRjvWapei0"
    },
    {
      "cell_type": "code",
      "source": [
        "#9 транспонування матрицю розміром 4x4, заповніть її випадковими дійсними числами в діапазоні від 0 до 1 та транспонуйте її.\n",
        "np.random.seed(42)\n",
        "a = np.round(np.random.rand(4, 4), 2)\n",
        "print(a)\n",
        "tr_a = a.T\n",
        "print(tr_a)"
      ],
      "metadata": {
        "colab": {
          "base_uri": "https://localhost:8080/"
        },
        "id": "96eAOnOQd-x_",
        "outputId": "099c50b3-e988-4fa9-89c4-9329761c2852"
      },
      "id": "96eAOnOQd-x_",
      "execution_count": null,
      "outputs": [
        {
          "output_type": "stream",
          "name": "stdout",
          "text": [
            "[[0.37 0.95 0.73 0.6 ]\n",
            " [0.16 0.16 0.06 0.87]\n",
            " [0.6  0.71 0.02 0.97]\n",
            " [0.83 0.21 0.18 0.18]]\n",
            "[[0.37 0.16 0.6  0.83]\n",
            " [0.95 0.16 0.71 0.21]\n",
            " [0.73 0.06 0.02 0.18]\n",
            " [0.6  0.87 0.97 0.18]]\n"
          ]
        }
      ]
    },
    {
      "cell_type": "markdown",
      "source": [
        "10. матриця розміром 3x4 та вектор розміром 4, заповніть їх випадковими цілими числами в діапазоні від 1 до 10 та перемножте матрицю на вектор"
      ],
      "metadata": {
        "id": "w2-FrHl9qM6e"
      },
      "id": "w2-FrHl9qM6e"
    },
    {
      "cell_type": "code",
      "source": [
        "#10 перемножте матрицю на вектор\n",
        "import numpy as np\n",
        "np.random.seed(42)\n",
        "m = np.random.randint(1, 11, size=(3, 4))\n",
        "v = np.random.randint(1, 11, size=4)\n",
        "c = np.dot(m,v)\n",
        "print(m)\n",
        "print(v)\n",
        "print(c)"
      ],
      "metadata": {
        "colab": {
          "base_uri": "https://localhost:8080/"
        },
        "id": "eGE1hHtXYoLS",
        "outputId": "1e56bb7b-4361-4c1a-92b8-a8cb1c8b6852"
      },
      "id": "eGE1hHtXYoLS",
      "execution_count": null,
      "outputs": [
        {
          "output_type": "stream",
          "name": "stdout",
          "text": [
            "[[ 7  4  8  5]\n",
            " [ 7 10  3  7]\n",
            " [ 8  5  4  8]]\n",
            "[8 3 6 5]\n",
            "[141 139 143]\n"
          ]
        }
      ]
    },
    {
      "cell_type": "markdown",
      "source": [
        "11. матриця розміром 2x3 та вектор розміром 3, заповніть їх випадковими дійсними числами в діапазоні від 0 до 1 та перемножте матрицю на вектор"
      ],
      "metadata": {
        "id": "JSTKInvZqczw"
      },
      "id": "JSTKInvZqczw"
    },
    {
      "cell_type": "code",
      "source": [
        "#11 матриця розміром 2x3 та вектор розміром 3, перемножити матрицю на вектор\n",
        "np.random.seed(42)\n",
        "m = np.random.rand(2, 3)\n",
        "v = np.random.rand(3)\n",
        "c = np.round(np.dot(m,v),3)\n",
        "print(m)\n",
        "print(v)\n",
        "print(c)"
      ],
      "metadata": {
        "colab": {
          "base_uri": "https://localhost:8080/"
        },
        "id": "eMwXrgCRfNMb",
        "outputId": "7b490c4f-f49c-4f9f-bb46-c7adfe22c61e"
      },
      "id": "eMwXrgCRfNMb",
      "execution_count": null,
      "outputs": [
        {
          "output_type": "stream",
          "name": "stdout",
          "text": [
            "[[0.37454012 0.95071431 0.73199394]\n",
            " [0.59865848 0.15601864 0.15599452]]\n",
            "[0.05808361 0.86617615 0.60111501]\n",
            "[1.285 0.264]\n"
          ]
        }
      ]
    },
    {
      "cell_type": "markdown",
      "source": [
        "12.\tСтворіть дві матриці розміром 2x2, заповніть їх випадковими цілими числами в діапазоні від 1 до 10 та виконайте їхнє поелементне множення."
      ],
      "metadata": {
        "id": "WHoEfS8-sEQl"
      },
      "id": "WHoEfS8-sEQl"
    },
    {
      "cell_type": "code",
      "source": [
        "#12 поелементне множення 2-х матриць\n",
        "np.random.seed(42)\n",
        "m1 = np.random.randint(1, 11, size=(2, 2))\n",
        "m2 = np.random.randint(1, 11, size=(2, 2))\n",
        "print(m1)\n",
        "print(m2)\n",
        "print(m1*m2)\n",
        "#print(np.multiply(m1, m2))"
      ],
      "metadata": {
        "colab": {
          "base_uri": "https://localhost:8080/"
        },
        "id": "tGMSM8YMhL5W",
        "outputId": "96553930-f674-4abb-c5e8-87b0901db2c5"
      },
      "id": "tGMSM8YMhL5W",
      "execution_count": null,
      "outputs": [
        {
          "output_type": "stream",
          "name": "stdout",
          "text": [
            "[[7 4]\n",
            " [8 5]]\n",
            "[[ 7 10]\n",
            " [ 3  7]]\n",
            "[[49 40]\n",
            " [24 35]]\n"
          ]
        }
      ]
    },
    {
      "cell_type": "markdown",
      "source": [
        "13. дві матриці розміром 2x2, заповніть їх випадковими цілими числами в діапазоні від 1 до 10 та знайдіть їх добуток."
      ],
      "metadata": {
        "id": "vikloCXxsOBn"
      },
      "id": "vikloCXxsOBn"
    },
    {
      "cell_type": "code",
      "source": [
        "#13 добуток 2-х матриць\n",
        "np.random.seed(42)\n",
        "m1 = np.random.randint(1, 11, size=(2, 2))\n",
        "m2 = np.random.randint(1, 11, size=(2, 2))\n",
        "print(m1)\n",
        "print(m2)\n",
        "mlt = np.dot(m1, m2)\n",
        "print(mlt)"
      ],
      "metadata": {
        "colab": {
          "base_uri": "https://localhost:8080/"
        },
        "id": "thPbY8O-lG_9",
        "outputId": "a64f7428-e815-4d1f-a0ce-8de76716819b"
      },
      "id": "thPbY8O-lG_9",
      "execution_count": null,
      "outputs": [
        {
          "output_type": "stream",
          "name": "stdout",
          "text": [
            "[[7 4]\n",
            " [8 5]]\n",
            "[[ 7 10]\n",
            " [ 3  7]]\n",
            "[[ 61  98]\n",
            " [ 71 115]]\n"
          ]
        }
      ]
    },
    {
      "cell_type": "markdown",
      "source": [
        "14. матриця розміром 5x5, заповнити її випадковими цілими числами в діапазоні від 1 до 100 та знайти суму елементів матриці."
      ],
      "metadata": {
        "id": "ug8rVI3BsVvu"
      },
      "id": "ug8rVI3BsVvu"
    },
    {
      "cell_type": "code",
      "source": [
        "#14 сума елементів матриці\n",
        "np.random.seed(42)\n",
        "m = np.random.randint(1, 101, size=(5, 5))\n",
        "print(m)\n",
        "sum_el = np.sum(m)\n",
        "print(sum_el)"
      ],
      "metadata": {
        "colab": {
          "base_uri": "https://localhost:8080/"
        },
        "id": "HJeBNI3bsHiX",
        "outputId": "9a38e39f-ace5-4f98-abff-f86021300d33"
      },
      "id": "HJeBNI3bsHiX",
      "execution_count": null,
      "outputs": [
        {
          "output_type": "stream",
          "name": "stdout",
          "text": [
            "[[ 52  93  15  72  61]\n",
            " [ 21  83  87  75  75]\n",
            " [ 88 100  24   3  22]\n",
            " [ 53   2  88  30  38]\n",
            " [  2  64  60  21  33]]\n",
            "1262\n"
          ]
        }
      ]
    },
    {
      "cell_type": "markdown",
      "source": [
        "15.дві матриці розміром 4x4, заповнити їх випадковими цілими числами в діапазоні від 1 до 10 та знайти їхню різницю"
      ],
      "metadata": {
        "id": "rmJeYffzsiLU"
      },
      "id": "rmJeYffzsiLU"
    },
    {
      "cell_type": "code",
      "source": [
        "#15 різниця матриць\n",
        "m1 = np.random.randint(1, 11, size=(4, 4))\n",
        "m2 = np.random.randint(1, 11, size=(4, 4))\n",
        "diff = m1-m2\n",
        "print(m1)\n",
        "print(m2)\n",
        "print(diff)"
      ],
      "metadata": {
        "colab": {
          "base_uri": "https://localhost:8080/"
        },
        "id": "6BZ0CVCXt16k",
        "outputId": "aa9d8c8b-6937-4e56-d72d-2dba4ecfba57"
      },
      "id": "6BZ0CVCXt16k",
      "execution_count": null,
      "outputs": [
        {
          "output_type": "stream",
          "name": "stdout",
          "text": [
            "[[10  6  9  1]\n",
            " [10  3  7  4]\n",
            " [ 9  3  5  3]\n",
            " [ 7  5  9  7]]\n",
            "[[ 2  4  9  2]\n",
            " [10  9 10  5]\n",
            " [ 2  4  7  8]\n",
            " [ 3  1  4  2]]\n",
            "[[ 8  2  0 -1]\n",
            " [ 0 -6 -3 -1]\n",
            " [ 7 -1 -2 -5]\n",
            " [ 4  4  5  5]]\n"
          ]
        }
      ]
    },
    {
      "cell_type": "markdown",
      "source": [
        "16. матриця розміром 3x3, заповнити її випадковими дійсними числами в діапазоні від 0 до 1 та знайти вектор-стовпчик, що містить суму елементів кожного рядка матриці."
      ],
      "metadata": {
        "id": "__iJuq0fthLl"
      },
      "id": "__iJuq0fthLl"
    },
    {
      "cell_type": "code",
      "source": [
        "#16 сума елементів кожного рядка матриці\n",
        "m = np.round(np.random.rand(3, 3), 3)\n",
        "row_sum = np.sum(m, axis =1)\n",
        "col_v = np.round(row_sum.reshape(-1, 1), 3)\n",
        "print(m)\n",
        "print(col_v)\n"
      ],
      "metadata": {
        "colab": {
          "base_uri": "https://localhost:8080/"
        },
        "id": "SZc6iGpIwYYG",
        "outputId": "edd9b2b0-3da1-424c-d104-1918b375f406"
      },
      "id": "SZc6iGpIwYYG",
      "execution_count": null,
      "outputs": [
        {
          "output_type": "stream",
          "name": "stdout",
          "text": [
            "[[0.623 0.331 0.064]\n",
            " [0.311 0.325 0.73 ]\n",
            " [0.638 0.887 0.472]]\n",
            "[[1.018]\n",
            " [1.366]\n",
            " [1.997]]\n"
          ]
        }
      ]
    },
    {
      "cell_type": "markdown",
      "source": [
        "17. матриця розміром 3x3, заповнити її випадковими дійсними числами в діапазоні від 0 до 1 та знайти вектор-стовпчик, що містить суму елементів кожного рядка матриці."
      ],
      "metadata": {
        "id": "M5j-uOeQt0yO"
      },
      "id": "M5j-uOeQt0yO"
    },
    {
      "cell_type": "code",
      "source": [
        "#17 матриця з квадратами довільних чисел\n",
        "np.random.seed(42)\n",
        "m1 = np.random.randint(1, 20, size=(3, 4))\n",
        "print(m1)\n",
        "print(m1*m1)\n",
        "\n"
      ],
      "metadata": {
        "colab": {
          "base_uri": "https://localhost:8080/"
        },
        "id": "_y5Pnk4Yye2E",
        "outputId": "58807b70-b2bb-4b9c-d1b5-745c7656a604"
      },
      "id": "_y5Pnk4Yye2E",
      "execution_count": null,
      "outputs": [
        {
          "output_type": "stream",
          "name": "stdout",
          "text": [
            "[[ 7 15 11  8]\n",
            " [ 7 19 11 11]\n",
            " [ 4  8  3  2]]\n",
            "[[ 49 225 121  64]\n",
            " [ 49 361 121 121]\n",
            " [ 16  64   9   4]]\n"
          ]
        }
      ]
    },
    {
      "cell_type": "markdown",
      "source": [
        "18. вектор розміром 4, заповнити його випадковими цілими числами в діапазоні від 1 до 50 та знайти вектор з квадратними коренями цих чисел."
      ],
      "metadata": {
        "id": "bFF2zfXIt9Ot"
      },
      "id": "bFF2zfXIt9Ot"
    },
    {
      "cell_type": "code",
      "source": [
        "#18 вектор розміром 4, заповніть його випадковими цілими числами в діапазоні від 1 до 50 та знайдіть вектор з квадратними коренями цих чисел.\n",
        "v = np.random.randint(1, 51, size=4)\n",
        "sqrt_v = np.sqrt(v)\n",
        "print(v)\n",
        "print(sqrt_v)\n",
        "\n"
      ],
      "metadata": {
        "colab": {
          "base_uri": "https://localhost:8080/"
        },
        "id": "jMzk33E9z6I3",
        "outputId": "033d09e6-ae52-43e6-fcab-cd621d4bb482"
      },
      "id": "jMzk33E9z6I3",
      "execution_count": null,
      "outputs": [
        {
          "output_type": "stream",
          "name": "stdout",
          "text": [
            "[ 2 21 33 12]\n",
            "[1.41421356 4.58257569 5.74456265 3.46410162]\n"
          ]
        }
      ]
    },
    {
      "cell_type": "code",
      "source": [
        "from google.colab import drive\n",
        "drive.mount('/content/drive')"
      ],
      "metadata": {
        "colab": {
          "base_uri": "https://localhost:8080/"
        },
        "id": "C_0KGGwq3e-u",
        "outputId": "6acfc13e-3dd5-4b08-b50a-0db2b5145942"
      },
      "id": "C_0KGGwq3e-u",
      "execution_count": null,
      "outputs": [
        {
          "output_type": "stream",
          "name": "stdout",
          "text": [
            "Mounted at /content/drive\n"
          ]
        }
      ]
    }
  ],
  "metadata": {
    "kernelspec": {
      "display_name": "Python 3 (ipykernel)",
      "language": "python",
      "name": "python3"
    },
    "language_info": {
      "codemirror_mode": {
        "name": "ipython",
        "version": 3
      },
      "file_extension": ".py",
      "mimetype": "text/x-python",
      "name": "python",
      "nbconvert_exporter": "python",
      "pygments_lexer": "ipython3",
      "version": "3.11.7"
    },
    "colab": {
      "provenance": [],
      "include_colab_link": true
    }
  },
  "nbformat": 4,
  "nbformat_minor": 5
}